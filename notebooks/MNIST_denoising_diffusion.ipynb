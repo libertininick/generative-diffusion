{
 "cells": [
  {
   "cell_type": "markdown",
   "metadata": {},
   "source": [
    "# Denoising Diffusion on MNIST Dataset"
   ]
  },
  {
   "cell_type": "code",
   "execution_count": 1,
   "metadata": {},
   "outputs": [],
   "source": [
    "import torch\n",
    "from jaxtyping import Float, jaxtyped\n",
    "from torch import Tensor\n",
    "from typeguard import typechecked as typechecker\n",
    "\n",
    "\n",
    "@jaxtyped(typechecker=typechecker)\n",
    "def matmul(\n",
    "    x1: Float[Tensor, \"b n1 m\"], x2: Float[Tensor, \"b n2 m\"]\n",
    ") -> Float[Tensor, \"b n1 n2\"]:\n",
    "    return x1 @ x2.transpose(-2, -1)"
   ]
  },
  {
   "cell_type": "code",
   "execution_count": 3,
   "metadata": {},
   "outputs": [
    {
     "data": {
      "text/plain": [
       "tensor([[[ 1.2256, -1.6343,  3.1439,  0.4431],\n",
       "         [-0.5167,  1.7922,  2.5558,  0.7784],\n",
       "         [-0.8946,  2.3104,  1.4817,  1.2676]],\n",
       "\n",
       "        [[ 6.2235, -5.5528, -0.5008,  6.3076],\n",
       "         [ 0.3326,  2.4024, -2.2906, -1.1956],\n",
       "         [-1.2880,  3.2639,  0.4331, -2.4283]]])"
      ]
     },
     "execution_count": 3,
     "metadata": {},
     "output_type": "execute_result"
    }
   ],
   "source": [
    "matmul(torch.randn(2, 3, 4), torch.randn(2, 4, 4))"
   ]
  },
  {
   "cell_type": "code",
   "execution_count": null,
   "metadata": {},
   "outputs": [],
   "source": []
  }
 ],
 "metadata": {
  "kernelspec": {
   "display_name": "generative-diffusion",
   "language": "python",
   "name": "python3"
  },
  "language_info": {
   "codemirror_mode": {
    "name": "ipython",
    "version": 3
   },
   "file_extension": ".py",
   "mimetype": "text/x-python",
   "name": "python",
   "nbconvert_exporter": "python",
   "pygments_lexer": "ipython3",
   "version": "3.12.0"
  }
 },
 "nbformat": 4,
 "nbformat_minor": 2
}
